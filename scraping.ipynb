{
  "nbformat": 4,
  "nbformat_minor": 0,
  "metadata": {
    "colab": {
      "name": "scraping.ipynb",
      "provenance": [],
      "collapsed_sections": []
    },
    "kernelspec": {
      "name": "python3",
      "display_name": "Python 3"
    },
    "accelerator": "GPU"
  },
  "cells": [
    {
      "cell_type": "code",
      "metadata": {
        "id": "4txfLDJn7rTU",
        "colab_type": "code",
        "colab": {
          "base_uri": "https://localhost:8080/",
          "height": 408
        },
        "outputId": "7f1d2224-b73e-4784-e406-3668c1a9bc81"
      },
      "source": [
        "# Use this code if using Colab to run Selenium\n",
        "\n",
        "# Make sure to go to Runtime -> Change runtime type and select Python 3 as runtime type and GPU as hardware accelerator\n",
        "\n",
        "# !kill -9 -1 # Use this line to delete this VM and start a new one. \n",
        "# The above line deletes all files and folders from the current VM and allocates a new one.\n",
        "\n",
        "!pip install selenium\n",
        "!apt-get -q update # to update ubuntu to correctly run apt install\n",
        "!apt install -yq chromium-chromedriver\n",
        "!cp /usr/lib/chromium-browser/chromedriver /usr/bin\n",
        "\n",
        "import sys\n",
        "sys.path.insert(0,'/usr/lib/chromium-browser/chromedriver')\n",
        "from selenium import webdriver\n",
        "chrome_options = webdriver.ChromeOptions()\n",
        "chrome_options.add_argument('--headless')\n",
        "chrome_options.add_argument('--no-sandbox')\n",
        "chrome_options.add_argument('--disable-dev-shm-usage')"
      ],
      "execution_count": null,
      "outputs": [
        {
          "output_type": "stream",
          "text": [
            "Requirement already satisfied: selenium in /usr/local/lib/python3.6/dist-packages (3.141.0)\n",
            "Requirement already satisfied: urllib3 in /usr/local/lib/python3.6/dist-packages (from selenium) (1.24.3)\n",
            "Hit:1 https://cloud.r-project.org/bin/linux/ubuntu bionic-cran35/ InRelease\n",
            "Ign:2 https://developer.download.nvidia.com/compute/cuda/repos/ubuntu1804/x86_64  InRelease\n",
            "Ign:3 https://developer.download.nvidia.com/compute/machine-learning/repos/ubuntu1804/x86_64  InRelease\n",
            "Hit:4 https://developer.download.nvidia.com/compute/cuda/repos/ubuntu1804/x86_64  Release\n",
            "Hit:5 https://developer.download.nvidia.com/compute/machine-learning/repos/ubuntu1804/x86_64  Release\n",
            "Hit:6 http://ppa.launchpad.net/graphics-drivers/ppa/ubuntu bionic InRelease\n",
            "Hit:7 http://archive.ubuntu.com/ubuntu bionic InRelease\n",
            "Hit:9 http://security.ubuntu.com/ubuntu bionic-security InRelease\n",
            "Hit:10 http://archive.ubuntu.com/ubuntu bionic-updates InRelease\n",
            "Hit:12 http://archive.ubuntu.com/ubuntu bionic-backports InRelease\n",
            "Hit:13 http://ppa.launchpad.net/marutter/c2d4u3.5/ubuntu bionic InRelease\n",
            "Reading package lists...\n",
            "Reading package lists...\n",
            "Building dependency tree...\n",
            "Reading state information...\n",
            "chromium-chromedriver is already the newest version (85.0.4183.83-0ubuntu0.18.04.2).\n",
            "The following package was automatically installed and is no longer required:\n",
            "  libnvidia-common-440\n",
            "Use 'apt autoremove' to remove it.\n",
            "0 upgraded, 0 newly installed, 0 to remove and 77 not upgraded.\n",
            "cp: '/usr/lib/chromium-browser/chromedriver' and '/usr/bin/chromedriver' are the same file\n"
          ],
          "name": "stdout"
        }
      ]
    },
    {
      "cell_type": "code",
      "metadata": {
        "id": "CjcY_J2X7_Zj",
        "colab_type": "code",
        "colab": {
          "base_uri": "https://localhost:8080/",
          "height": 782
        },
        "outputId": "56d9add6-5266-4431-eb73-fcc56c16168f"
      },
      "source": [
        "wd = webdriver.Chrome('chromedriver',options=chrome_options)\n",
        "\n",
        "wd.get(\"https://www.example.com\")\n",
        "print(wd.page_source)"
      ],
      "execution_count": null,
      "outputs": [
        {
          "output_type": "stream",
          "text": [
            "<html><head>\n",
            "    <title>Example Domain</title>\n",
            "\n",
            "    <meta charset=\"utf-8\">\n",
            "    <meta http-equiv=\"Content-type\" content=\"text/html; charset=utf-8\">\n",
            "    <meta name=\"viewport\" content=\"width=device-width, initial-scale=1\">\n",
            "    <style type=\"text/css\">\n",
            "    body {\n",
            "        background-color: #f0f0f2;\n",
            "        margin: 0;\n",
            "        padding: 0;\n",
            "        font-family: -apple-system, system-ui, BlinkMacSystemFont, \"Segoe UI\", \"Open Sans\", \"Helvetica Neue\", Helvetica, Arial, sans-serif;\n",
            "        \n",
            "    }\n",
            "    div {\n",
            "        width: 600px;\n",
            "        margin: 5em auto;\n",
            "        padding: 2em;\n",
            "        background-color: #fdfdff;\n",
            "        border-radius: 0.5em;\n",
            "        box-shadow: 2px 3px 7px 2px rgba(0,0,0,0.02);\n",
            "    }\n",
            "    a:link, a:visited {\n",
            "        color: #38488f;\n",
            "        text-decoration: none;\n",
            "    }\n",
            "    @media (max-width: 700px) {\n",
            "        div {\n",
            "            margin: 0 auto;\n",
            "            width: auto;\n",
            "        }\n",
            "    }\n",
            "    </style>    \n",
            "</head>\n",
            "\n",
            "<body>\n",
            "<div>\n",
            "    <h1>Example Domain</h1>\n",
            "    <p>This domain is for use in illustrative examples in documents. You may use this\n",
            "    domain in literature without prior coordination or asking for permission.</p>\n",
            "    <p><a href=\"https://www.iana.org/domains/example\">More information...</a></p>\n",
            "</div>\n",
            "\n",
            "\n",
            "</body></html>\n"
          ],
          "name": "stdout"
        }
      ]
    },
    {
      "cell_type": "code",
      "metadata": {
        "id": "3Fv1YqHo8r3v",
        "colab_type": "code",
        "colab": {}
      },
      "source": [
        "import pandas as pd\n",
        "\n",
        "driver = webdriver.Chrome('chromedriver', options=chrome_options)"
      ],
      "execution_count": null,
      "outputs": []
    },
    {
      "cell_type": "code",
      "metadata": {
        "id": "cAKM40cM-I3k",
        "colab_type": "code",
        "colab": {
          "base_uri": "https://localhost:8080/",
          "height": 34
        },
        "outputId": "00521a35-9ec1-4e2a-ba53-6cea864112b9"
      },
      "source": [
        "# Source: https://towardsdatascience.com/web-scraping-using-selenium-python-8a60f4cf40ab\n",
        "\n",
        "driver.get('https://forums.edmunds.com/discussion/2444/general/x/what-car-is-right-for-me-help-me-choose')\n",
        "userid_element = driver.find_elements_by_xpath('//*[@id=\"Discussion_2444\"]/div/div[1]/div[1]/span[1]')[0]\n",
        "userid = userid_element.text\n",
        "\n",
        "print(userid)"
      ],
      "execution_count": null,
      "outputs": [
        {
          "output_type": "stream",
          "text": [
            "pat\n"
          ],
          "name": "stdout"
        }
      ]
    },
    {
      "cell_type": "code",
      "metadata": {
        "id": "gELQIukHIh3N",
        "colab_type": "code",
        "colab": {}
      },
      "source": [
        "# https://www.guru99.com/xpath-selenium.html\n",
        "# Understand absolute and relative xpaths in Selenium"
      ],
      "execution_count": null,
      "outputs": []
    },
    {
      "cell_type": "code",
      "metadata": {
        "id": "cL_3DDiN-Xog",
        "colab_type": "code",
        "colab": {
          "base_uri": "https://localhost:8080/",
          "height": 51
        },
        "outputId": "8c0fd34b-1090-4c57-b6e4-6fc57e260161"
      },
      "source": [
        "time_element = driver.find_elements_by_xpath('//*[@id=\"Discussion_2444\"]/div/div[1]/div[2]/span[1]/a/time')[0]\n",
        "time = time_element.text\n",
        "date = time_element.get_attribute('title')\n",
        "\n",
        "print(date)\n",
        "print(time)"
      ],
      "execution_count": null,
      "outputs": [
        {
          "output_type": "stream",
          "text": [
            "September 29, 2001 12:01PM\n",
            "September 2001\n"
          ],
          "name": "stdout"
        }
      ]
    },
    {
      "cell_type": "code",
      "metadata": {
        "id": "KFRO-q76LEQ5",
        "colab_type": "code",
        "colab": {}
      },
      "source": [
        "# user_date = driver.find_elements_by_xpath('//*[@id=\"Comment_5561090\"]/div/')[0]\n",
        "# print(date)"
      ],
      "execution_count": null,
      "outputs": []
    },
    {
      "cell_type": "code",
      "metadata": {
        "id": "8lBA3O1nMVvS",
        "colab_type": "code",
        "colab": {
          "base_uri": "https://localhost:8080/",
          "height": 102
        },
        "outputId": "9a9ec967-ab7c-480d-f929-8355bde1c93a"
      },
      "source": [
        "user_message = driver.find_elements_by_xpath('//*[@id=\"Discussion_2444\"]/div/div[2]/div/div[1]')[0]\n",
        "comment = user_message.text\n",
        "print(comment)"
      ],
      "execution_count": null,
      "outputs": [
        {
          "output_type": "stream",
          "text": [
            "Need help choosing your next vehicle?\n",
            "\n",
            "Tell us your price range, are you thinking New or Used, buying or leasing, what features are must-haves, what other thoughts are on your mind, and let us give you a hand! Tell us your criteria as specifically as you can.\n",
            "\n",
            "You'll find lots of helpful folks here who can give you useful suggestions.\n"
          ],
          "name": "stdout"
        }
      ]
    },
    {
      "cell_type": "code",
      "metadata": {
        "id": "zVYyIjP3MszQ",
        "colab_type": "code",
        "colab": {}
      },
      "source": [
        "df = pd.DataFrame(columns=['username', 'date', 'comment'])\n",
        "df.loc[0, 'username'] = userid\n",
        "df.loc[0, 'date'] = date\n",
        "df.loc[0, 'comment'] = comment\n",
        "\n",
        "df.index.name = \"ID\""
      ],
      "execution_count": null,
      "outputs": []
    },
    {
      "cell_type": "code",
      "metadata": {
        "id": "h6md_fdBNW25",
        "colab_type": "code",
        "colab": {
          "base_uri": "https://localhost:8080/",
          "height": 111
        },
        "outputId": "bf90d056-d285-48df-9c14-8be010a3dbca"
      },
      "source": [
        "df.head()"
      ],
      "execution_count": null,
      "outputs": [
        {
          "output_type": "execute_result",
          "data": {
            "text/html": [
              "<div>\n",
              "<style scoped>\n",
              "    .dataframe tbody tr th:only-of-type {\n",
              "        vertical-align: middle;\n",
              "    }\n",
              "\n",
              "    .dataframe tbody tr th {\n",
              "        vertical-align: top;\n",
              "    }\n",
              "\n",
              "    .dataframe thead th {\n",
              "        text-align: right;\n",
              "    }\n",
              "</style>\n",
              "<table border=\"1\" class=\"dataframe\">\n",
              "  <thead>\n",
              "    <tr style=\"text-align: right;\">\n",
              "      <th></th>\n",
              "      <th>username</th>\n",
              "      <th>date</th>\n",
              "      <th>comment</th>\n",
              "    </tr>\n",
              "    <tr>\n",
              "      <th>ID</th>\n",
              "      <th></th>\n",
              "      <th></th>\n",
              "      <th></th>\n",
              "    </tr>\n",
              "  </thead>\n",
              "  <tbody>\n",
              "    <tr>\n",
              "      <th>0</th>\n",
              "      <td>pat</td>\n",
              "      <td>September 29, 2001 12:01PM</td>\n",
              "      <td>Need help choosing your next vehicle?\\n\\nTell ...</td>\n",
              "    </tr>\n",
              "  </tbody>\n",
              "</table>\n",
              "</div>"
            ],
            "text/plain": [
              "   username  ...                                            comment\n",
              "ID           ...                                                   \n",
              "0       pat  ...  Need help choosing your next vehicle?\\n\\nTell ...\n",
              "\n",
              "[1 rows x 3 columns]"
            ]
          },
          "metadata": {
            "tags": []
          },
          "execution_count": 12
        }
      ]
    },
    {
      "cell_type": "code",
      "metadata": {
        "id": "BdN0hNWDNX50",
        "colab_type": "code",
        "colab": {
          "base_uri": "https://localhost:8080/",
          "height": 34
        },
        "outputId": "e46a3663-148b-462e-d05a-c80f5710ec2b"
      },
      "source": [
        "df.to_csv(\"results.csv\") # df.to_csv(\"results.csv\", sep = \"\\t\") \n",
        "!ls"
      ],
      "execution_count": null,
      "outputs": [
        {
          "output_type": "stream",
          "text": [
            "results.csv  sample_data\n"
          ],
          "name": "stdout"
        }
      ]
    },
    {
      "cell_type": "code",
      "metadata": {
        "id": "s3A5OIesOHkq",
        "colab_type": "code",
        "colab": {
          "base_uri": "https://localhost:8080/",
          "height": 1000
        },
        "outputId": "64113853-84ef-4f87-d9c1-cfd1c373d8c5"
      },
      "source": [
        "\n",
        "\n",
        "for i in range(1,83):\n",
        "  driver.get('https://forums.edmunds.com/discussion/2444/general/x/what-car-is-right-for-me-help-me-choose/p' + str(i))\n",
        "  comments = pd.DataFrame(columns = ['Date','user_id','comments']) \n",
        "  ids = driver.find_elements_by_xpath(\"//*[contains(@id,'Comment_')]\")\n",
        "\n",
        "  comment_ids = []\n",
        "  for i in ids:\n",
        "    comment_ids.append(i.get_attribute('id'))\n",
        "\n",
        "  for x in comment_ids:\n",
        "    #Extract dates from for each user on a page\n",
        "    user_date = driver.find_elements_by_xpath('//*[@id=\"' + x +'\"]/div/div[2]/div[2]/span[1]/a/time')[0]\n",
        "    date = user_date.get_attribute('title')\n",
        "\n",
        "    #Extract user ids from each user on a page\n",
        "    userid_element = driver.find_elements_by_xpath('//*[@id=\"' + x +'\"]/div/div[2]/div[1]/span[1]/a[2]')[0]\n",
        "    userid = userid_element.text\n",
        "\n",
        "    #Extract Message for each user on a page\n",
        "    user_message = driver.find_elements_by_xpath('//*[@id=\"' + x +'\"]/div/div[3]/div/div[1]')[0]\n",
        "    comment = user_message.text\n",
        "                                   \n",
        "    #Adding date, userid and comment for each user in a dataframe    \n",
        "    comments.loc[len(comments)] = [date,userid,comment]\n",
        "  print(comments)\n",
        "\n",
        "count_volvo = 0\n",
        "for i in range((comments.shape[0])): \n",
        "  if ('Volvo' in comments.loc[i,'comments']) | ('volvo' in comments.loc[i,'comments']) :\n",
        "      count_volvo += 1\n",
        "\n",
        "print(count_volvo)"
      ],
      "execution_count": null,
      "outputs": [
        {
          "output_type": "stream",
          "text": [
            "                         Date  ...                                           comments\n",
            "0   September 24, 2001 6:58PM  ...  I'm buying a \"new\" car by the end of the year ...\n",
            "1      October 4, 2001 6:09AM  ...  Buy a 2001/ 2002 Oldsmobile Intrigue. It's one...\n",
            "2      October 4, 2001 7:45AM  ...  Am looking at 1 of 4 choices to replace my 99G...\n",
            "3      October 4, 2001 8:15AM  ...  Generally a 3-4 year old car range is a good o...\n",
            "4      October 4, 2001 8:38AM  ...  Maxima and Intrigue are both excellent choices...\n",
            "5      October 4, 2001 2:37PM  ...  If I had that kind of budget, I would go for t...\n",
            "6      October 5, 2001 6:14AM  ...  Actually, I was about to agree with the A6, bu...\n",
            "7      October 5, 2001 1:50PM  ...  I'd pass Intrigue only for one reason: crash t...\n",
            "8      October 5, 2001 7:56PM  ...  I would recommend the Honda Accord or Toyota C...\n",
            "9     October 6, 2001 11:41PM  ...  The only way to figure out what car you like i...\n",
            "10     October 7, 2001 9:18AM  ...  LS, A8 and the Q feel larger than the A6. To g...\n",
            "11    October 7, 2001 10:53PM  ...  i'm thinking of getting an audi s4 in the near...\n",
            "12    October 8, 2001 11:07AM  ...  I looked at S4 and 330xi. i liked s4 interior ...\n",
            "13    October 8, 2001 11:14AM  ...  So why not go for the S6 Avant? I think that i...\n",
            "14     October 8, 2001 1:48PM  ...  My wife's got a Trooper and two of three kids ...\n",
            "15     October 9, 2001 4:57AM  ...  This topic is way too broad. People are in at ...\n",
            "16     October 9, 2001 6:55AM  ...  Well, considering yours is only the 17th messa...\n",
            "17     October 9, 2001 7:01AM  ...  Well, obviously, you gotta get what you'll be ...\n",
            "18    October 9, 2001 10:08AM  ...  I'm thinking of trading up to a new car next s...\n",
            "19    October 9, 2001 10:55AM  ...  Silvercrown,trading in your Camry anytime soon...\n",
            "20    October 9, 2001 10:30PM  ...                                                   \n",
            "21    October 10, 2001 4:36AM  ...  Yes,but once you get it,I suggest keeping it f...\n",
            "22   October 10, 2001 10:07AM  ...  One of the pluses for the Passat is the Tiptro...\n",
            "23   October 10, 2001 10:23AM  ...  It really is nothing like a manual shift. Afte...\n",
            "24   October 10, 2001 10:44AM  ...  I agree with merckx in that it is nothing like...\n",
            "25    October 10, 2001 6:39PM  ...  all these manumatics are a waste of time. Just...\n",
            "26   October 11, 2001 10:44AM  ...  Not to defend the manumatic, but not ALL are a...\n",
            "27   October 11, 2001 11:25AM  ...  After exhausting all of the info in all of the...\n",
            "28    October 11, 2001 1:31PM  ...  Ah, I was wondering if you had decided yet. In...\n",
            "29    October 11, 2001 2:58PM  ...  \"I've eliminated the Q45 and the A8. The Q, as...\n",
            "30    October 11, 2001 7:35PM  ...  The new Infiniti I35 is one fine-looking car, ...\n",
            "31    October 12, 2001 5:28AM  ...  I agree with corsicachevy. You could be missin...\n",
            "32    October 12, 2001 6:09AM  ...  Thanks for the comments. I do think the Q offe...\n",
            "33    October 12, 2001 9:35AM  ...  peteri1, why wouldn't you consider a 740i spor...\n",
            "34   October 12, 2001 10:38AM  ...  That's my point.. If they're still around, I m...\n",
            "35    October 12, 2001 2:01PM  ...  sorry, peteri1, misunderstood you. on the one ...\n",
            "36    October 13, 2001 5:29AM  ...                                                   \n",
            "37    October 13, 2001 5:29AM  ...  I am looking for a used car for my daughter in...\n",
            "38    October 13, 2001 1:12PM  ...  Hello,\\nI am new to the message board so here ...\n",
            "39    October 14, 2001 8:49AM  ...  considering the 2002 Passat and the 2002 Altim...\n",
            "40   October 15, 2001 12:43PM  ...  tennisnuts - where's the Camry? I'd pick the M...\n",
            "41    October 15, 2001 3:56PM  ...  With the radical improvement of the Altima, th...\n",
            "42    October 16, 2001 9:26AM  ...  I don't know about Audi or VW or Acura's manum...\n",
            "43    October 16, 2001 7:21PM  ...  hello friends, i am new at this townhall. i ha...\n",
            "44    October 17, 2001 7:34AM  ...  Since cars lose most of their value in the fir...\n",
            "45    October 17, 2001 9:28AM  ...  C230 might be a good choice because it has bet...\n",
            "46    October 17, 2001 3:34PM  ...  will be more expensive than the Altima per vis...\n",
            "47    October 20, 2001 7:50PM  ...  i have $2500 in rebates from my GM card that's...\n",
            "48    October 21, 2001 7:19AM  ...  The best car on your short list is the Prizm, ...\n",
            "49   October 21, 2001 11:32PM  ...  Trying to stay under $30k, but a couple of my ...\n",
            "\n",
            "[50 rows x 3 columns]\n",
            "                         Date  ...                                           comments\n",
            "0     October 22, 2001 5:48AM  ...  I always wonder when I see such different cars...\n",
            "1     October 22, 2001 7:08AM  ...  anon70: I think the best GM small sedan is not...\n",
            "2    October 22, 2001 10:47AM  ...  under 30k... I think that you are better off w...\n",
            "3     October 22, 2001 3:32PM  ...  Just for fun test drive a 2002 Subaru Outback ...\n",
            "4    October 23, 2001 10:13AM  ...  I would also consider saturns if eligible, as ...\n",
            "5    October 23, 2001 10:27AM  ...  I don't know about the states right now but th...\n",
            "6     October 23, 2001 8:22PM  ...  I'd like to buy a used Volvo, something under ...\n",
            "7     October 24, 2001 3:56AM  ...  My dad has good luck with 240 and 740 Volvos, ...\n",
            "8     October 24, 2001 1:16PM  ...  Your dad is like my dad. His car-buying cycle ...\n",
            "9     October 25, 2001 3:12PM  ...  some body help find a beater, for winter, for ...\n",
            "10   October 25, 2001 10:19PM  ...  To some, older than five years old is a 'beate...\n",
            "11    October 26, 2001 4:32AM  ...  The car I gave my daughter would certainly qua...\n",
            "12    October 28, 2001 7:16PM  ...  hey all... looking for a midsize sedan... just...\n",
            "13    October 29, 2001 8:48AM  ...  You're a young guy with a family so I think th...\n",
            "14    October 29, 2001 2:39PM  ...  i have $2500 from my GM card and is expiring. ...\n",
            "15    October 30, 2001 3:26PM  ...  You answered your own question. You want a sun...\n",
            "16    November 1, 2001 3:51PM  ...  I'm planning on buying a 2002 Jetta GLX or Acc...\n",
            "17    November 1, 2001 4:02PM  ...  If you do not need a bunch of interior room, g...\n",
            "18   November 3, 2001 12:28PM  ...  anon70 -\\n\\nI vote for the Prizm as the best o...\n",
            "19    November 5, 2001 8:21PM  ...  I'm considering one of the 3 following 2002 mo...\n",
            "20    November 6, 2001 7:33AM  ...  If you enjoy cars and can appreciate performan...\n",
            "21    November 6, 2001 8:32AM  ...  If you're worried about obsolescence (Accord a...\n",
            "22   November 6, 2001 11:56AM  ...  Some say that the GXE model is too softly spru...\n",
            "23    November 6, 2001 2:01PM  ...  I did look at the Altima and I really didn't l...\n",
            "24    November 9, 2001 8:27AM  ...  I lease a 1999 Chrysler 300M and need to choos...\n",
            "25    November 9, 2001 9:55AM  ...  You might try Acura TL, Lexus ES300, or Infini...\n",
            "26   November 9, 2001 11:19AM  ...  The smallest Caddy is RWD... so will the CTS.....\n",
            "27    November 9, 2001 7:39PM  ...  I'm about to have a baby in about 3 1/2 weeks ...\n",
            "28    November 9, 2001 7:48PM  ...  Congratulations on being a new family man.\\n\\n...\n",
            "29    November 9, 2001 8:00PM  ...  In fact, with expected big discounts on new Ac...\n",
            "30    November 9, 2001 8:09PM  ...  Take a look at the S70 5 cyl turbo or predeces...\n",
            "31    November 9, 2001 8:20PM  ...  Comes loaded with standard features...leather,...\n",
            "32   November 11, 2001 4:26PM  ...  By saying you'll be looking at used, I have to...\n",
            "33   November 11, 2001 5:44PM  ...  I recommend you test drive a 4 cyl Accord or C...\n",
            "34   November 12, 2001 9:21AM  ...  Here we go again. The question was what to buy...\n",
            "35   November 12, 2001 9:25AM  ...  I see by your profile that you own an Audi and...\n",
            "36  November 12, 2001 10:11AM  ...  I recall that there was nothing wrong with tho...\n",
            "37  November 12, 2001 10:27AM  ...  I don't remember exactly what was going on, I ...\n",
            "38  November 12, 2001 11:00AM  ...  My opinion about Hyundais is formed based on s...\n",
            "39   November 12, 2001 2:01PM  ...  You're right that this is not the place to dis...\n",
            "40   November 12, 2001 4:58PM  ...  They want to talk to consumers who were lookin...\n",
            "41   November 12, 2001 7:07PM  ...  theworldizmyn Nov 9, 2001 6:39pm\\n\\nIf you are...\n",
            "42   November 13, 2001 8:25AM  ...  The 2002 Accord SE is a great choice. Heck of ...\n",
            "43   November 13, 2001 7:50PM  ...  I'm looking to replace my 1990 Toyota Camry (g...\n",
            "44   November 14, 2001 8:30AM  ...  I recall that there was nothing wrong with tho...\n",
            "45   November 14, 2001 8:50AM  ...  I thought the Audi pedal layout was just the E...\n",
            "46   November 14, 2001 2:26PM  ...  Hi all,\\n\\nThe lease on my 1999 Accord EX V6 c...\n",
            "47   November 14, 2001 2:30PM  ...  If those are your 2 choices, get the Civic EX ...\n",
            "48   November 14, 2001 7:36PM  ...  If you compare the interior measurements, the ...\n",
            "49   November 16, 2001 8:05AM  ...  can someone help me. a used avalon xls 1999 w/...\n",
            "\n",
            "[50 rows x 3 columns]\n",
            "4\n"
          ],
          "name": "stdout"
        }
      ]
    },
    {
      "cell_type": "code",
      "metadata": {
        "id": "NoqZIp72oCsK",
        "colab_type": "code",
        "colab": {
          "base_uri": "https://localhost:8080/",
          "height": 432
        },
        "outputId": "392e94e1-ec1f-474e-944e-e98f141b6f1e"
      },
      "source": [
        "# Source: https://towardsdatascience.com/visualize-multidimensional-datasets-with-mds-64d7b4c16eaa\n",
        "\n",
        "import numpy as np\n",
        "from sklearn.datasets import load_iris\n",
        "import matplotlib.pyplot as plt\n",
        "from sklearn.manifold import MDS\n",
        "from sklearn.preprocessing import MinMaxScaler\n",
        "\n",
        "data = load_iris()\n",
        "X = data.data\n",
        "\n",
        "# print(data)\n",
        "scaler = MinMaxScaler()\n",
        "X_scaled = scaler.fit_transform(X)\n",
        "\n",
        "mds = MDS(2,random_state=0)\n",
        "X_2d = mds.fit_transform(X_scaled)\n",
        "\n",
        "colors = ['red','green','blue']\n",
        "plt.rcParams['figure.figsize'] = [7, 7]\n",
        "plt.rc('font', size=14)\n",
        "# print(data.target)\n",
        "for i in np.unique(data.target):\n",
        "  subset = X_2d[data.target == i]\n",
        "  # subset = X_scaled[data.target == i]\n",
        "  x = [row[0] for row in subset]\n",
        "  y = [row[1] for row in subset]\n",
        "  plt.scatter(x,y,c=colors[i],label=data.target_names[i])\n",
        "# plt.xlim(-0.9, 0.9)\n",
        "# plt.ylim(-0.9, 0.9)\n",
        "plt.legend()\n",
        "plt.show()\n",
        "\n",
        "#helpful links - http://statweb.stanford.edu/~jtaylo/courses/stats202/mds.html\n",
        "#mds documentation - https://scikit-learn.org/stable/modules/generated/sklearn.manifold.MDS.html\n"
      ],
      "execution_count": null,
      "outputs": [
        {
          "output_type": "display_data",
          "data": {
            "image/png": "[encoded data removed]",
            "text/plain": [
              "<Figure size 504x504 with 1 Axes>"
            ]
          },
          "metadata": {
            "tags": [],
            "needs_background": "light"
          }
        }
      ]
    }
  ]
}